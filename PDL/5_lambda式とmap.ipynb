{
 "cells": [
  {
   "cell_type": "markdown",
   "metadata": {},
   "source": [
    "# ラムダ式とmap関数について\n",
    "\n",
    "## `lambda path: path.split(os.sep)[-1].split(\".\")[0]`について\n",
    "\n",
    " - `os.sep`は文字列'/'を与える。\n",
    " - `split()`関数によって、文字列を'/'で分割したリストを得る。\n",
    " - `path.split()[-n]`は分割されたパスの右からn番目の要素を与える。(n$\\geq$1)\n",
    " - `lambda path: path.split(os.sep)[-1].split(\".\")[0]`は`VVV/WW/XXXX.YY.ZZZZ.`のような引数に対して`XXXX`の部分を返す関数。\n",
    " \n",
    "##### 例:引数`u = 'VVV/WW/XXXX.YY.ZZZZ.'`の場合\n",
    " - `u.split(\"/\") = ['VVV','WW','XXXX.YY.ZZZZ.']`\n",
    " - `u.split(\"/\")[-1] = 'XXXX.YY.ZZZZ.'`\n",
    " - `u.split(\"/\")[-1].split(\".\") = ['XXXX', 'YY', 'ZZZZ', '']`\n",
    " - `u.split(\"/\")[-1].split(\".\")[0] = 'XXXX'` \n",
    " - `(lambda path: path.split(os.sep)[-1].split(\".\")[0])(u) = 'XXXX'`"
   ]
  },
  {
   "cell_type": "code",
   "execution_count": 1,
   "metadata": {},
   "outputs": [
    {
     "name": "stdout",
     "output_type": "stream",
     "text": [
      "ex1(u) = XXXX\n",
      "ex2(u) = XXXX\n",
      "PEP8(pythonのコーディング規約)では、ラムダ式への命名は非推奨となっています。命名しない場合は以下のように使います。\n",
      "(lambda path: path.split(\"/\")[-1].split(\".\")[0])(u) = XXXX\n"
     ]
    }
   ],
   "source": [
    "u = 'VVV/WW/XXXX.YY.ZZZZ.'\n",
    "\n",
    "# ラムダ式を使わない関数定義\n",
    "def ex1(path):\n",
    "    return path.split(\"/\")[-1].split(\".\")[0]\n",
    "\n",
    "# ラムダ式を使った関数定義\n",
    "ex2 = lambda path: path.split(\"/\")[-1].split(\".\")[0]\n",
    "\n",
    "# 出力を確認\n",
    "print(\"ex1(u) = %s\" % ex1(u))\n",
    "print(\"ex2(u) = %s\" % ex2(u))\n",
    "# PEP8(pythonのコーディング規約)では、ラムダ式への命名は非推奨となっています。\n",
    "print(\"PEP8(pythonのコーディング規約)では、ラムダ式への命名は非推奨となっています。命名しない場合は以下のように使います。\")\n",
    "print('(lambda path: path.split(\"/\")[-1].split(\".\")[0])(u) = %s' % (lambda path: path.split(\"/\")[-1].split(\".\")[0])(u))"
   ]
  },
  {
   "cell_type": "markdown",
   "metadata": {},
   "source": [
    "## `map(lambda path: path.split(os.sep)[-1].split(\".\")[0], paths_segmented)`について(その2)\n",
    "\n",
    " - `map(func, iterable)`は反復可能オブジェクト`iterable`(リストやイテレータなど)の与える要素に対して関数funcを作用させる。\n",
    " - `map()`の返り値は`iterator`として与えられる。リストとして取得したい場合はlist()に代入する。\n",
    " - `iterable` : `'__iter__'`あるいは`'__getitem__'`の少なくとも一方をメソッドとして持つオブジェクト。(https://docs.python.org/ja/3/glossary.html)\n",
    " - `iterator` : `'__next__'`メソッドを呼び出すごとに要素を一つずつ返し、返すデータが無くなるとStopIteration例外を返す。"
   ]
  },
  {
   "cell_type": "code",
   "execution_count": 2,
   "metadata": {},
   "outputs": [
    {
     "name": "stdout",
     "output_type": "stream",
     "text": [
      "hasattr([],'__iter__') = True なので、これはiterableです。\n",
      "2007_002212\n",
      "2010_000679\n",
      "2009_000006\n",
      "2007_009889\n"
     ]
    }
   ],
   "source": [
    "ex_list = [os.getcwd() + '/VOCdevkit/VOC2012/SegmentationClass/2007_002212.png',\n",
    " os.getcwd() + '/VOCdevkit/VOC2012/SegmentationClass/2010_000679.png',\n",
    " os.getcwd() + '/VOCdevkit/VOC2012/SegmentationClass/2009_000006.png',\n",
    " os.getcwd() + '/VOCdevkit/VOC2012/SegmentationClass/2007_009889.png']\n",
    "\n",
    "# ex_listが反復可能かを確かめる。\n",
    "print(\"hasattr([],'__iter__') = %s なので、これはiterableです。\" % hasattr([],'__iter__'))\n",
    "\n",
    "# map(function, iterable)はiteratorオブジェクトを与える。\n",
    "obj = map(lambda path: path.split(\"/\")[-1].split(\".\")[0], ex_list)\n",
    "# __next__()で要素を取得する。\n",
    "print(obj.__next__())\n",
    "print(obj.__next__())\n",
    "print(obj.__next__())\n",
    "print(obj.__next__())\n",
    "# 次の行のコメントアウトを外すとStopIteration例外が出る。\n",
    "# print(obj.__next__())"
   ]
  },
  {
   "cell_type": "code",
   "execution_count": 3,
   "metadata": {},
   "outputs": [
    {
     "name": "stdout",
     "output_type": "stream",
     "text": [
      "\"res0: ['2007_002212', '2010_000679', '2009_000006', '2007_009889']\"\n",
      "\"res1: ['2007_002212', '2010_000679', '2009_000006', '2007_009889']\"\n"
     ]
    }
   ],
   "source": [
    "import pprint\n",
    "# mapで得られたイテレータをリストに変換してみる。\n",
    "res0 = list(map(lambda path: path.split(\"/\")[-1].split(\".\")[0], ex_list))\n",
    "pprint.pprint(\"res0: %s\" % res0)\n",
    "\n",
    "# mapを使わずに上のリストを取得する方法\n",
    "res1 = []\n",
    "for path in ex_list:\n",
    "    file_name = (lambda path: path.split(\"/\")[-1].split(\".\")[0])(path)\n",
    "    res1.append(file_name)\n",
    "pprint.pprint(\"res1: %s\" % res1)"
   ]
  },
  {
   "cell_type": "code",
   "execution_count": null,
   "metadata": {},
   "outputs": [],
   "source": []
  }
 ],
 "metadata": {
  "kernelspec": {
   "display_name": "Python 3",
   "language": "python",
   "name": "python3"
  },
  "language_info": {
   "codemirror_mode": {
    "name": "ipython",
    "version": 3
   },
   "file_extension": ".py",
   "mimetype": "text/x-python",
   "name": "python",
   "nbconvert_exporter": "python",
   "pygments_lexer": "ipython3",
   "version": "3.6.5"
  }
 },
 "nbformat": 4,
 "nbformat_minor": 2
}
